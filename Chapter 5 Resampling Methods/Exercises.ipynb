{
 "cells": [
  {
   "cell_type": "code",
   "execution_count": 274,
   "id": "c26a19ad-636e-4e11-8bf7-e7ca6bba6247",
   "metadata": {},
   "outputs": [],
   "source": [
    "import pandas as pd\n",
    "import numpy as np\n",
    "import matplotlib.pyplot as plt\n",
    "import numpy as np\n",
    "import statsmodels.api as sm\n",
    "from ISLP import load_data\n",
    "from ISLP.models import (ModelSpec as MS,\n",
    "summarize,\n",
    "poly)\n",
    "from sklearn.model_selection import train_test_split\n",
    "from functools import partial\n",
    "from sklearn.model_selection import \\\n",
    "(cross_validate,\n",
    "KFold,\n",
    "ShuffleSplit)\n",
    "from sklearn.base import clone\n",
    "from ISLP.models import sklearn_sm\n",
    "import math"
   ]
  },
  {
   "cell_type": "markdown",
   "id": "5460deaf-1cc2-4480-9a2b-0358ade5816d",
   "metadata": {},
   "source": [
    "# Question 2"
   ]
  },
  {
   "cell_type": "markdown",
   "id": "b9e7be01-a592-4981-9bad-2918092840fd",
   "metadata": {},
   "source": [
    "### (g) plot n: 1 to 100 000"
   ]
  },
  {
   "cell_type": "code",
   "execution_count": 2,
   "id": "8411424d-89e6-4cf2-83d6-3c94d07bd0e3",
   "metadata": {},
   "outputs": [],
   "source": [
    "def p(n):\n",
    "    \"\"\"Probability of observation in bootstrap sample\"\"\"\n",
    "    return 1 - (1 - 1/n)**n"
   ]
  },
  {
   "cell_type": "code",
   "execution_count": 21,
   "id": "8b349888-37b0-4a91-8ee0-14f039bb2998",
   "metadata": {},
   "outputs": [
    {
     "data": {
      "image/png": "[encoded data removed]",
      "text/plain": [
       "<Figure size 640x480 with 1 Axes>"
      ]
     },
     "metadata": {},
     "output_type": "display_data"
    }
   ],
   "source": [
    "x = np.arange(1, 100001)\n",
    "y = np.array([p(i) for i in x])\n",
    "plt.plot(x, y)\n",
    "plt.show()"
   ]
  },
  {
   "cell_type": "markdown",
   "id": "8a89ac46-f372-4662-9132-ea8e573098cd",
   "metadata": {},
   "source": [
    "#### When n become larger, the probability will converge."
   ]
  },
  {
   "cell_type": "markdown",
   "id": "dc4b6863-db34-46aa-b094-0c8a2f288a77",
   "metadata": {},
   "source": [
    "### (h) bootstrap sample probabilities"
   ]
  },
  {
   "cell_type": "code",
   "execution_count": 44,
   "id": "a720ac21-cf03-402c-ae46-dca3b5f0b6d3",
   "metadata": {},
   "outputs": [
    {
     "data": {
      "text/plain": [
       "0.6362"
      ]
     },
     "execution_count": 44,
     "metadata": {},
     "output_type": "execute_result"
    }
   ],
   "source": [
    "rng = np.random.default_rng(10)\n",
    "store = np.empty(10000)\n",
    "for i in range(10000):\n",
    "    store[i] = np.sum(rng.choice(100, size=100, replace=True) == 4) > 0\n",
    "np.mean(store)"
   ]
  },
  {
   "cell_type": "markdown",
   "id": "7ff6caec-e704-4755-9e7b-192e098dfc50",
   "metadata": {},
   "source": [
    "#### Almost the same as the result in (g)"
   ]
  },
  {
   "cell_type": "markdown",
   "id": "87348ce0-9efe-40f9-9f05-42955bab17de",
   "metadata": {},
   "source": [
    "# Question 5"
   ]
  },
  {
   "cell_type": "code",
   "execution_count": 54,
   "id": "a4c6bb0d-99f8-40f1-b14b-24ef77a24c06",
   "metadata": {},
   "outputs": [],
   "source": [
    "Default = load_data('Default')\n",
    "np.random.seed(1)"
   ]
  },
  {
   "cell_type": "code",
   "execution_count": 55,
   "id": "0b8c33da-6eb7-411e-a943-dc7802a1eeb9",
   "metadata": {},
   "outputs": [
    {
     "data": {
      "text/html": [
       "<div>\n",
       "<style scoped>\n",
       "    .dataframe tbody tr th:only-of-type {\n",
       "        vertical-align: middle;\n",
       "    }\n",
       "\n",
       "    .dataframe tbody tr th {\n",
       "        vertical-align: top;\n",
       "    }\n",
       "\n",
       "    .dataframe thead th {\n",
       "        text-align: right;\n",
       "    }\n",
       "</style>\n",
       "<table border=\"1\" class=\"dataframe\">\n",
       "  <thead>\n",
       "    <tr style=\"text-align: right;\">\n",
       "      <th></th>\n",
       "      <th>default</th>\n",
       "      <th>student</th>\n",
       "      <th>balance</th>\n",
       "      <th>income</th>\n",
       "    </tr>\n",
       "  </thead>\n",
       "  <tbody>\n",
       "    <tr>\n",
       "      <th>0</th>\n",
       "      <td>No</td>\n",
       "      <td>No</td>\n",
       "      <td>729.526495</td>\n",
       "      <td>44361.625074</td>\n",
       "    </tr>\n",
       "    <tr>\n",
       "      <th>1</th>\n",
       "      <td>No</td>\n",
       "      <td>Yes</td>\n",
       "      <td>817.180407</td>\n",
       "      <td>12106.134700</td>\n",
       "    </tr>\n",
       "    <tr>\n",
       "      <th>2</th>\n",
       "      <td>No</td>\n",
       "      <td>No</td>\n",
       "      <td>1073.549164</td>\n",
       "      <td>31767.138947</td>\n",
       "    </tr>\n",
       "    <tr>\n",
       "      <th>3</th>\n",
       "      <td>No</td>\n",
       "      <td>No</td>\n",
       "      <td>529.250605</td>\n",
       "      <td>35704.493935</td>\n",
       "    </tr>\n",
       "    <tr>\n",
       "      <th>4</th>\n",
       "      <td>No</td>\n",
       "      <td>No</td>\n",
       "      <td>785.655883</td>\n",
       "      <td>38463.495879</td>\n",
       "    </tr>\n",
       "  </tbody>\n",
       "</table>\n",
       "</div>"
      ],
      "text/plain": [
       "  default student      balance        income\n",
       "0      No      No   729.526495  44361.625074\n",
       "1      No     Yes   817.180407  12106.134700\n",
       "2      No      No  1073.549164  31767.138947\n",
       "3      No      No   529.250605  35704.493935\n",
       "4      No      No   785.655883  38463.495879"
      ]
     },
     "execution_count": 55,
     "metadata": {},
     "output_type": "execute_result"
    }
   ],
   "source": [
    "Default.head()"
   ]
  },
  {
   "cell_type": "code",
   "execution_count": 56,
   "id": "67c26acf-3040-42b3-8dfe-5fc3363a8d4f",
   "metadata": {},
   "outputs": [
    {
     "data": {
      "text/html": [
       "<div>\n",
       "<style scoped>\n",
       "    .dataframe tbody tr th:only-of-type {\n",
       "        vertical-align: middle;\n",
       "    }\n",
       "\n",
       "    .dataframe tbody tr th {\n",
       "        vertical-align: top;\n",
       "    }\n",
       "\n",
       "    .dataframe thead th {\n",
       "        text-align: right;\n",
       "    }\n",
       "</style>\n",
       "<table border=\"1\" class=\"dataframe\">\n",
       "  <thead>\n",
       "    <tr style=\"text-align: right;\">\n",
       "      <th></th>\n",
       "      <th>coef</th>\n",
       "      <th>std err</th>\n",
       "      <th>z</th>\n",
       "      <th>P&gt;|z|</th>\n",
       "    </tr>\n",
       "  </thead>\n",
       "  <tbody>\n",
       "    <tr>\n",
       "      <th>intercept</th>\n",
       "      <td>-11.540500</td>\n",
       "      <td>0.435000</td>\n",
       "      <td>-26.544</td>\n",
       "      <td>0.0</td>\n",
       "    </tr>\n",
       "    <tr>\n",
       "      <th>balance</th>\n",
       "      <td>0.005600</td>\n",
       "      <td>0.000000</td>\n",
       "      <td>24.835</td>\n",
       "      <td>0.0</td>\n",
       "    </tr>\n",
       "    <tr>\n",
       "      <th>income</th>\n",
       "      <td>0.000021</td>\n",
       "      <td>0.000005</td>\n",
       "      <td>4.174</td>\n",
       "      <td>0.0</td>\n",
       "    </tr>\n",
       "  </tbody>\n",
       "</table>\n",
       "</div>"
      ],
      "text/plain": [
       "                coef   std err       z  P>|z|\n",
       "intercept -11.540500  0.435000 -26.544    0.0\n",
       "balance     0.005600  0.000000  24.835    0.0\n",
       "income      0.000021  0.000005   4.174    0.0"
      ]
     },
     "execution_count": 56,
     "metadata": {},
     "output_type": "execute_result"
    }
   ],
   "source": [
    "allvars = Default.columns.drop(['default', 'student'])\n",
    "design = MS(allvars)\n",
    "X = design.fit_transform(Default)\n",
    "y = Default.default == 'Yes'\n",
    "glm = sm.GLM(y,\n",
    "             X,\n",
    "             family=sm.families.Binomial())\n",
    "results = glm.fit()\n",
    "summarize(results)"
   ]
  },
  {
   "cell_type": "code",
   "execution_count": 66,
   "id": "c5977246-16b9-46f7-9153-5af67b64fa9d",
   "metadata": {},
   "outputs": [],
   "source": [
    "Default['default_yes'] = Default['default'].apply(lambda x: 1 if x == 'Yes' else 0)"
   ]
  },
  {
   "cell_type": "code",
   "execution_count": 71,
   "id": "f1ff9dc0-dd78-456c-966a-09ffbc9c6eb5",
   "metadata": {},
   "outputs": [],
   "source": [
    "Default_train, Default_valid = train_test_split(Default, \n",
    "                                         test_size= 5000,\n",
    "                                         random_state=0)"
   ]
  },
  {
   "cell_type": "code",
   "execution_count": 73,
   "id": "ce6fa5c5-4936-4e76-88eb-3fe56d3e6f7d",
   "metadata": {},
   "outputs": [
    {
     "data": {
      "text/html": [
       "<div>\n",
       "<style scoped>\n",
       "    .dataframe tbody tr th:only-of-type {\n",
       "        vertical-align: middle;\n",
       "    }\n",
       "\n",
       "    .dataframe tbody tr th {\n",
       "        vertical-align: top;\n",
       "    }\n",
       "\n",
       "    .dataframe thead th {\n",
       "        text-align: right;\n",
       "    }\n",
       "</style>\n",
       "<table border=\"1\" class=\"dataframe\">\n",
       "  <thead>\n",
       "    <tr style=\"text-align: right;\">\n",
       "      <th></th>\n",
       "      <th>coef</th>\n",
       "      <th>std err</th>\n",
       "      <th>z</th>\n",
       "      <th>P&gt;|z|</th>\n",
       "    </tr>\n",
       "  </thead>\n",
       "  <tbody>\n",
       "    <tr>\n",
       "      <th>intercept</th>\n",
       "      <td>-11.389600</td>\n",
       "      <td>0.635000</td>\n",
       "      <td>-17.935</td>\n",
       "      <td>0.000</td>\n",
       "    </tr>\n",
       "    <tr>\n",
       "      <th>balance</th>\n",
       "      <td>0.005600</td>\n",
       "      <td>0.000000</td>\n",
       "      <td>16.792</td>\n",
       "      <td>0.000</td>\n",
       "    </tr>\n",
       "    <tr>\n",
       "      <th>income</th>\n",
       "      <td>0.000016</td>\n",
       "      <td>0.000007</td>\n",
       "      <td>2.151</td>\n",
       "      <td>0.031</td>\n",
       "    </tr>\n",
       "  </tbody>\n",
       "</table>\n",
       "</div>"
      ],
      "text/plain": [
       "                coef   std err       z  P>|z|\n",
       "intercept -11.389600  0.635000 -17.935  0.000\n",
       "balance     0.005600  0.000000  16.792  0.000\n",
       "income      0.000016  0.000007   2.151  0.031"
      ]
     },
     "execution_count": 73,
     "metadata": {},
     "output_type": "execute_result"
    }
   ],
   "source": [
    "allvars = Default_train.columns.drop(['default', 'student', 'default_yes'])\n",
    "design = MS(allvars)\n",
    "X = design.fit_transform(Default_train)\n",
    "y = Default_train.default_yes\n",
    "glm = sm.GLM(y,\n",
    "             X,\n",
    "             family=sm.families.Binomial())\n",
    "results = glm.fit()\n",
    "summarize(results)"
   ]
  },
  {
   "cell_type": "code",
   "execution_count": 87,
   "id": "bad45e54-8128-4a28-867c-55ae94263afb",
   "metadata": {},
   "outputs": [],
   "source": [
    "allvars = Default_valid.columns.drop(['default', 'student', 'default_yes'])\n",
    "design = MS(allvars)\n",
    "X_valid = design.fit_transform(Default_valid)"
   ]
  },
  {
   "cell_type": "code",
   "execution_count": 96,
   "id": "9efcd551-be94-4e40-ad35-e157acc6f127",
   "metadata": {},
   "outputs": [
    {
     "data": {
      "text/plain": [
       "0.971"
      ]
     },
     "execution_count": 96,
     "metadata": {},
     "output_type": "execute_result"
    }
   ],
   "source": [
    "probs = results.predict(X_valid)\n",
    "labels = np.array([0]*X.shape[0])\n",
    "labels[probs>0.5] = 1\n",
    "np.mean(labels == Default_valid['default_yes'])"
   ]
  },
  {
   "cell_type": "code",
   "execution_count": 97,
   "id": "0be82762-ce81-495f-85c9-be03fd13d939",
   "metadata": {},
   "outputs": [
    {
     "data": {
      "text/plain": [
       "0.029"
      ]
     },
     "execution_count": 97,
     "metadata": {},
     "output_type": "execute_result"
    }
   ],
   "source": [
    "np.mean(labels != Default_valid['default_yes']) # validation set error"
   ]
  },
  {
   "cell_type": "code",
   "execution_count": 102,
   "id": "21e5ba55-3606-425e-8df9-593902693fb7",
   "metadata": {},
   "outputs": [],
   "source": [
    "def validation_split(validation_size):\n",
    "    Default_train, Default_valid = train_test_split(Default, \n",
    "                                         test_size= validation_size,\n",
    "                                         random_state=0)\n",
    "    allvars = Default_train.columns.drop(['default', 'student', 'default_yes'])\n",
    "    design = MS(allvars)\n",
    "    X = design.fit_transform(Default_train)\n",
    "    y = Default_train.default_yes\n",
    "    glm = sm.GLM(y,\n",
    "                 X,\n",
    "                 family=sm.families.Binomial())\n",
    "    results = glm.fit()\n",
    "    summarize(results)\n",
    "\n",
    "    allvars = Default_valid.columns.drop(['default', 'student', 'default_yes'])\n",
    "    design = MS(allvars)\n",
    "    X_valid = design.fit_transform(Default_valid)\n",
    "\n",
    "    probs = results.predict(X_valid)\n",
    "    labels = np.array([0]*X_valid.shape[0])\n",
    "    labels[probs>0.5] = 1\n",
    "    print('Validation Set Accuracy:', np.mean(labels == Default_valid['default_yes']))\n",
    "    print('Validation Set Error:', np.mean(labels != Default_valid['default_yes']))"
   ]
  },
  {
   "cell_type": "code",
   "execution_count": 112,
   "id": "d1bf12de-c757-4b57-b452-d483ad117822",
   "metadata": {},
   "outputs": [],
   "source": [
    "validation_splits = [1000, 3000, 4000, 5000, 6000, 9000]"
   ]
  },
  {
   "cell_type": "code",
   "execution_count": 113,
   "id": "64dda329-36d4-4e16-9105-3348fd1d603f",
   "metadata": {},
   "outputs": [
    {
     "name": "stdout",
     "output_type": "stream",
     "text": [
      "For split:  1000\n",
      "Validation Set Accuracy: 0.97\n",
      "Validation Set Error: 0.03\n",
      "For split:  3000\n",
      "Validation Set Accuracy: 0.9726666666666667\n",
      "Validation Set Error: 0.027333333333333334\n",
      "For split:  4000\n",
      "Validation Set Accuracy: 0.972\n",
      "Validation Set Error: 0.028\n",
      "For split:  5000\n",
      "Validation Set Accuracy: 0.971\n",
      "Validation Set Error: 0.029\n",
      "For split:  6000\n",
      "Validation Set Accuracy: 0.9713333333333334\n",
      "Validation Set Error: 0.028666666666666667\n",
      "For split:  9000\n",
      "Validation Set Accuracy: 0.9728888888888889\n",
      "Validation Set Error: 0.02711111111111111\n"
     ]
    }
   ],
   "source": [
    "for split in validation_splits:\n",
    "    print('For split: ', split)\n",
    "    validation_split(split)"
   ]
  },
  {
   "cell_type": "code",
   "execution_count": 114,
   "id": "000e6854-d2bb-41f6-9ef1-c22d0065e24f",
   "metadata": {},
   "outputs": [],
   "source": [
    "Default['student_yes'] = Default['student'].apply(lambda x: 1 if x == 'Yes' else 0)"
   ]
  },
  {
   "cell_type": "code",
   "execution_count": 127,
   "id": "8b13d29a-f1ae-410a-ba79-7dd981b508a4",
   "metadata": {},
   "outputs": [
    {
     "data": {
      "text/html": [
       "<div>\n",
       "<style scoped>\n",
       "    .dataframe tbody tr th:only-of-type {\n",
       "        vertical-align: middle;\n",
       "    }\n",
       "\n",
       "    .dataframe tbody tr th {\n",
       "        vertical-align: top;\n",
       "    }\n",
       "\n",
       "    .dataframe thead th {\n",
       "        text-align: right;\n",
       "    }\n",
       "</style>\n",
       "<table border=\"1\" class=\"dataframe\">\n",
       "  <thead>\n",
       "    <tr style=\"text-align: right;\">\n",
       "      <th></th>\n",
       "      <th>coef</th>\n",
       "      <th>std err</th>\n",
       "      <th>z</th>\n",
       "      <th>P&gt;|z|</th>\n",
       "    </tr>\n",
       "  </thead>\n",
       "  <tbody>\n",
       "    <tr>\n",
       "      <th>intercept</th>\n",
       "      <td>-10.495500</td>\n",
       "      <td>0.710000</td>\n",
       "      <td>-14.777</td>\n",
       "      <td>0.000</td>\n",
       "    </tr>\n",
       "    <tr>\n",
       "      <th>balance</th>\n",
       "      <td>0.005700</td>\n",
       "      <td>0.000000</td>\n",
       "      <td>16.740</td>\n",
       "      <td>0.000</td>\n",
       "    </tr>\n",
       "    <tr>\n",
       "      <th>income</th>\n",
       "      <td>-0.000009</td>\n",
       "      <td>0.000012</td>\n",
       "      <td>-0.732</td>\n",
       "      <td>0.464</td>\n",
       "    </tr>\n",
       "    <tr>\n",
       "      <th>student_yes</th>\n",
       "      <td>-0.891800</td>\n",
       "      <td>0.344000</td>\n",
       "      <td>-2.591</td>\n",
       "      <td>0.010</td>\n",
       "    </tr>\n",
       "  </tbody>\n",
       "</table>\n",
       "</div>"
      ],
      "text/plain": [
       "                  coef   std err       z  P>|z|\n",
       "intercept   -10.495500  0.710000 -14.777  0.000\n",
       "balance       0.005700  0.000000  16.740  0.000\n",
       "income       -0.000009  0.000012  -0.732  0.464\n",
       "student_yes  -0.891800  0.344000  -2.591  0.010"
      ]
     },
     "execution_count": 127,
     "metadata": {},
     "output_type": "execute_result"
    }
   ],
   "source": [
    "Default_train, Default_valid = train_test_split(Default, \n",
    "                                     test_size= 5000,\n",
    "                                     random_state=0)\n",
    "allvars = Default_train.columns.drop(['default', 'student', 'default_yes'])\n",
    "design = MS(allvars)\n",
    "X = design.fit_transform(Default_train)\n",
    "y = Default_train.default_yes\n",
    "glm = sm.GLM(y,\n",
    "             X,\n",
    "             family=sm.families.Binomial())\n",
    "results = glm.fit()\n",
    "summarize(results)"
   ]
  },
  {
   "cell_type": "code",
   "execution_count": 129,
   "id": "296619d5-76ac-4a85-b723-fdf839a8b331",
   "metadata": {},
   "outputs": [
    {
     "name": "stdout",
     "output_type": "stream",
     "text": [
      "Validation Set Accuracy: 0.9708\n",
      "Validation Set Error: 0.0292\n"
     ]
    }
   ],
   "source": [
    "allvars = Default_valid.columns.drop(['default', 'student', 'default_yes'])\n",
    "design = MS(allvars)\n",
    "X_valid = design.fit_transform(Default_valid)\n",
    "\n",
    "probs = results.predict(X_valid)\n",
    "labels = np.array([0]*X_valid.shape[0])\n",
    "labels[probs>0.5] = 1\n",
    "print('Validation Set Accuracy:', np.mean(labels == Default_valid['default_yes']))\n",
    "print('Validation Set Error:', np.mean(labels != Default_valid['default_yes']))"
   ]
  },
  {
   "cell_type": "markdown",
   "id": "2faa1d37-076b-4475-9aa7-4b03bc9c31d3",
   "metadata": {},
   "source": [
    "# Question 6"
   ]
  },
  {
   "cell_type": "code",
   "execution_count": 139,
   "id": "5a57f700-f81b-44d9-bcd0-852071eaeca8",
   "metadata": {},
   "outputs": [
    {
     "data": {
      "text/html": [
       "<div>\n",
       "<style scoped>\n",
       "    .dataframe tbody tr th:only-of-type {\n",
       "        vertical-align: middle;\n",
       "    }\n",
       "\n",
       "    .dataframe tbody tr th {\n",
       "        vertical-align: top;\n",
       "    }\n",
       "\n",
       "    .dataframe thead th {\n",
       "        text-align: right;\n",
       "    }\n",
       "</style>\n",
       "<table border=\"1\" class=\"dataframe\">\n",
       "  <thead>\n",
       "    <tr style=\"text-align: right;\">\n",
       "      <th></th>\n",
       "      <th>default</th>\n",
       "      <th>student</th>\n",
       "      <th>balance</th>\n",
       "      <th>income</th>\n",
       "      <th>default_yes</th>\n",
       "      <th>student_yes</th>\n",
       "    </tr>\n",
       "  </thead>\n",
       "  <tbody>\n",
       "    <tr>\n",
       "      <th>0</th>\n",
       "      <td>No</td>\n",
       "      <td>No</td>\n",
       "      <td>729.526495</td>\n",
       "      <td>44361.625074</td>\n",
       "      <td>0</td>\n",
       "      <td>0</td>\n",
       "    </tr>\n",
       "    <tr>\n",
       "      <th>1</th>\n",
       "      <td>No</td>\n",
       "      <td>Yes</td>\n",
       "      <td>817.180407</td>\n",
       "      <td>12106.134700</td>\n",
       "      <td>0</td>\n",
       "      <td>1</td>\n",
       "    </tr>\n",
       "    <tr>\n",
       "      <th>2</th>\n",
       "      <td>No</td>\n",
       "      <td>No</td>\n",
       "      <td>1073.549164</td>\n",
       "      <td>31767.138947</td>\n",
       "      <td>0</td>\n",
       "      <td>0</td>\n",
       "    </tr>\n",
       "    <tr>\n",
       "      <th>3</th>\n",
       "      <td>No</td>\n",
       "      <td>No</td>\n",
       "      <td>529.250605</td>\n",
       "      <td>35704.493935</td>\n",
       "      <td>0</td>\n",
       "      <td>0</td>\n",
       "    </tr>\n",
       "    <tr>\n",
       "      <th>4</th>\n",
       "      <td>No</td>\n",
       "      <td>No</td>\n",
       "      <td>785.655883</td>\n",
       "      <td>38463.495879</td>\n",
       "      <td>0</td>\n",
       "      <td>0</td>\n",
       "    </tr>\n",
       "  </tbody>\n",
       "</table>\n",
       "</div>"
      ],
      "text/plain": [
       "  default student      balance        income  default_yes  student_yes\n",
       "0      No      No   729.526495  44361.625074            0            0\n",
       "1      No     Yes   817.180407  12106.134700            0            1\n",
       "2      No      No  1073.549164  31767.138947            0            0\n",
       "3      No      No   529.250605  35704.493935            0            0\n",
       "4      No      No   785.655883  38463.495879            0            0"
      ]
     },
     "execution_count": 139,
     "metadata": {},
     "output_type": "execute_result"
    }
   ],
   "source": [
    "np.random.seed(0)\n",
    "Default.head()"
   ]
  },
  {
   "cell_type": "code",
   "execution_count": 136,
   "id": "ddeddb59-59bc-43a7-a35e-7bb41114e7ea",
   "metadata": {},
   "outputs": [
    {
     "data": {
      "text/html": [
       "<div>\n",
       "<style scoped>\n",
       "    .dataframe tbody tr th:only-of-type {\n",
       "        vertical-align: middle;\n",
       "    }\n",
       "\n",
       "    .dataframe tbody tr th {\n",
       "        vertical-align: top;\n",
       "    }\n",
       "\n",
       "    .dataframe thead th {\n",
       "        text-align: right;\n",
       "    }\n",
       "</style>\n",
       "<table border=\"1\" class=\"dataframe\">\n",
       "  <thead>\n",
       "    <tr style=\"text-align: right;\">\n",
       "      <th></th>\n",
       "      <th>coef</th>\n",
       "      <th>std err</th>\n",
       "      <th>z</th>\n",
       "      <th>P&gt;|z|</th>\n",
       "    </tr>\n",
       "  </thead>\n",
       "  <tbody>\n",
       "    <tr>\n",
       "      <th>intercept</th>\n",
       "      <td>-11.540500</td>\n",
       "      <td>0.435000</td>\n",
       "      <td>-26.544</td>\n",
       "      <td>0.0</td>\n",
       "    </tr>\n",
       "    <tr>\n",
       "      <th>balance</th>\n",
       "      <td>0.005600</td>\n",
       "      <td>0.000000</td>\n",
       "      <td>24.835</td>\n",
       "      <td>0.0</td>\n",
       "    </tr>\n",
       "    <tr>\n",
       "      <th>income</th>\n",
       "      <td>0.000021</td>\n",
       "      <td>0.000005</td>\n",
       "      <td>4.174</td>\n",
       "      <td>0.0</td>\n",
       "    </tr>\n",
       "  </tbody>\n",
       "</table>\n",
       "</div>"
      ],
      "text/plain": [
       "                coef   std err       z  P>|z|\n",
       "intercept -11.540500  0.435000 -26.544    0.0\n",
       "balance     0.005600  0.000000  24.835    0.0\n",
       "income      0.000021  0.000005   4.174    0.0"
      ]
     },
     "execution_count": 136,
     "metadata": {},
     "output_type": "execute_result"
    }
   ],
   "source": [
    "allvars = Default.columns.drop(['default', 'student', 'student_yes', 'default_yes'])\n",
    "design = MS(allvars)\n",
    "X = design.fit_transform(Default)\n",
    "y = Default.default == 'Yes'\n",
    "glm = sm.GLM(y,\n",
    "             X,\n",
    "             family=sm.families.Binomial())\n",
    "results = glm.fit()\n",
    "summarize(results)"
   ]
  },
  {
   "cell_type": "code",
   "execution_count": 153,
   "id": "a4a26d6e-ee41-45fd-a87e-a8d480d66a16",
   "metadata": {},
   "outputs": [
    {
     "data": {
      "text/plain": [
       "intercept   -11.540500\n",
       "balance       0.005600\n",
       "income        0.000021\n",
       "Name: coef, dtype: float64"
      ]
     },
     "execution_count": 153,
     "metadata": {},
     "output_type": "execute_result"
    }
   ],
   "source": [
    "summarize(results)['coef']"
   ]
  },
  {
   "cell_type": "code",
   "execution_count": 174,
   "id": "eabef62a-3f2b-4439-bd2c-530eb4dca131",
   "metadata": {},
   "outputs": [
    {
     "data": {
      "text/plain": [
       "intercept    0.435000\n",
       "balance      0.000000\n",
       "income       0.000005\n",
       "Name: std err, dtype: float64"
      ]
     },
     "execution_count": 174,
     "metadata": {},
     "output_type": "execute_result"
    }
   ],
   "source": [
    "summarize(results)['std err']"
   ]
  },
  {
   "cell_type": "code",
   "execution_count": 150,
   "id": "a4b44b4c-001f-42ac-b2dd-41176a682625",
   "metadata": {},
   "outputs": [],
   "source": [
    "def boot_fn(D, idx, param):\n",
    "    Default = D.loc[idx]\n",
    "    allvars = Default.columns.drop(['default', 'student', 'student_yes', 'default_yes'])\n",
    "    design = MS(allvars)\n",
    "    X = design.fit_transform(Default)\n",
    "    y = Default.default_yes\n",
    "    glm = sm.GLM(y,\n",
    "                 X,\n",
    "                 family=sm.families.Binomial())\n",
    "    results = glm.fit()\n",
    "    std = summarize(results)['std err']\n",
    "    return std[param]"
   ]
  },
  {
   "cell_type": "code",
   "execution_count": 157,
   "id": "ff3aa710-7b07-49b1-9063-d78ff5345221",
   "metadata": {},
   "outputs": [],
   "source": [
    "def boot_coef(D, idx, param):\n",
    "    Default = D.loc[idx]\n",
    "    allvars = Default.columns.drop(['default', 'student', 'student_yes', 'default_yes'])\n",
    "    design = MS(allvars)\n",
    "    X = design.fit_transform(Default)\n",
    "    y = Default.default_yes\n",
    "    glm = sm.GLM(y,\n",
    "                 X,\n",
    "                 family=sm.families.Binomial())\n",
    "    results = glm.fit()\n",
    "    coef = summarize(results)['coef']\n",
    "    return coef[param]"
   ]
  },
  {
   "cell_type": "code",
   "execution_count": 158,
   "id": "e71b1026-ceda-459d-a1af-bcb90409b6c3",
   "metadata": {},
   "outputs": [
    {
     "data": {
      "text/plain": [
       "1.52e-05"
      ]
     },
     "execution_count": 158,
     "metadata": {},
     "output_type": "execute_result"
    }
   ],
   "source": [
    "boot_fn(Default, np.arange(1000), 'income')"
   ]
  },
  {
   "cell_type": "code",
   "execution_count": 183,
   "id": "2e778346-147a-4b42-a1a8-4ad1a38cedb1",
   "metadata": {},
   "outputs": [
    {
     "name": "stdout",
     "output_type": "stream",
     "text": [
      "Income: 1.6275398698781593e-05\n",
      "Balance: 0.0007473551699158842\n"
     ]
    }
   ],
   "source": [
    "income_coefficients = [] \n",
    "balance_coefficients = []\n",
    "\n",
    "n = 1000 # number of bootstrapped samples\n",
    "\n",
    "for _ in range(0,n):\n",
    "    coef_i = boot_coef(Default, rng.choice(Default.index, 1000), 'income')\n",
    "    coef_b = boot_coef(Default, rng.choice(Default.index, 1000), 'balance')\n",
    "    income_coefficients.append(coef_i) \n",
    "    balance_coefficients.append(coef_b) \n",
    "\n",
    "print('Income:', np.std(income_coefficients))\n",
    "print('Balance:', np.std(balance_coefficients)) "
   ]
  },
  {
   "cell_type": "markdown",
   "id": "815afac2-54a5-4d49-b005-414aa67fdb02",
   "metadata": {},
   "source": [
    "### Similar\n",
    "##### glm:\n",
    "1. Income: 4.99e-06\n",
    "2. Balance: 0.0\n",
    "##### bootstrap:\n",
    "1. Income: 1.4e05\n",
    "2. Balance: ~0"
   ]
  },
  {
   "cell_type": "markdown",
   "id": "1ca460fd-af84-4811-bb06-2e32ef923f8f",
   "metadata": {},
   "source": [
    "# Question 7"
   ]
  },
  {
   "cell_type": "code",
   "execution_count": 185,
   "id": "86e1f0ab-dd7b-4969-9452-d8d22fe6faf2",
   "metadata": {},
   "outputs": [
    {
     "data": {
      "text/html": [
       "<div>\n",
       "<style scoped>\n",
       "    .dataframe tbody tr th:only-of-type {\n",
       "        vertical-align: middle;\n",
       "    }\n",
       "\n",
       "    .dataframe tbody tr th {\n",
       "        vertical-align: top;\n",
       "    }\n",
       "\n",
       "    .dataframe thead th {\n",
       "        text-align: right;\n",
       "    }\n",
       "</style>\n",
       "<table border=\"1\" class=\"dataframe\">\n",
       "  <thead>\n",
       "    <tr style=\"text-align: right;\">\n",
       "      <th></th>\n",
       "      <th>Year</th>\n",
       "      <th>Lag1</th>\n",
       "      <th>Lag2</th>\n",
       "      <th>Lag3</th>\n",
       "      <th>Lag4</th>\n",
       "      <th>Lag5</th>\n",
       "      <th>Volume</th>\n",
       "      <th>Today</th>\n",
       "      <th>Direction</th>\n",
       "    </tr>\n",
       "  </thead>\n",
       "  <tbody>\n",
       "    <tr>\n",
       "      <th>0</th>\n",
       "      <td>1990</td>\n",
       "      <td>0.816</td>\n",
       "      <td>1.572</td>\n",
       "      <td>-3.936</td>\n",
       "      <td>-0.229</td>\n",
       "      <td>-3.484</td>\n",
       "      <td>0.154976</td>\n",
       "      <td>-0.270</td>\n",
       "      <td>Down</td>\n",
       "    </tr>\n",
       "    <tr>\n",
       "      <th>1</th>\n",
       "      <td>1990</td>\n",
       "      <td>-0.270</td>\n",
       "      <td>0.816</td>\n",
       "      <td>1.572</td>\n",
       "      <td>-3.936</td>\n",
       "      <td>-0.229</td>\n",
       "      <td>0.148574</td>\n",
       "      <td>-2.576</td>\n",
       "      <td>Down</td>\n",
       "    </tr>\n",
       "    <tr>\n",
       "      <th>2</th>\n",
       "      <td>1990</td>\n",
       "      <td>-2.576</td>\n",
       "      <td>-0.270</td>\n",
       "      <td>0.816</td>\n",
       "      <td>1.572</td>\n",
       "      <td>-3.936</td>\n",
       "      <td>0.159837</td>\n",
       "      <td>3.514</td>\n",
       "      <td>Up</td>\n",
       "    </tr>\n",
       "    <tr>\n",
       "      <th>3</th>\n",
       "      <td>1990</td>\n",
       "      <td>3.514</td>\n",
       "      <td>-2.576</td>\n",
       "      <td>-0.270</td>\n",
       "      <td>0.816</td>\n",
       "      <td>1.572</td>\n",
       "      <td>0.161630</td>\n",
       "      <td>0.712</td>\n",
       "      <td>Up</td>\n",
       "    </tr>\n",
       "    <tr>\n",
       "      <th>4</th>\n",
       "      <td>1990</td>\n",
       "      <td>0.712</td>\n",
       "      <td>3.514</td>\n",
       "      <td>-2.576</td>\n",
       "      <td>-0.270</td>\n",
       "      <td>0.816</td>\n",
       "      <td>0.153728</td>\n",
       "      <td>1.178</td>\n",
       "      <td>Up</td>\n",
       "    </tr>\n",
       "  </tbody>\n",
       "</table>\n",
       "</div>"
      ],
      "text/plain": [
       "   Year   Lag1   Lag2   Lag3   Lag4   Lag5    Volume  Today Direction\n",
       "0  1990  0.816  1.572 -3.936 -0.229 -3.484  0.154976 -0.270      Down\n",
       "1  1990 -0.270  0.816  1.572 -3.936 -0.229  0.148574 -2.576      Down\n",
       "2  1990 -2.576 -0.270  0.816  1.572 -3.936  0.159837  3.514        Up\n",
       "3  1990  3.514 -2.576 -0.270  0.816  1.572  0.161630  0.712        Up\n",
       "4  1990  0.712  3.514 -2.576 -0.270  0.816  0.153728  1.178        Up"
      ]
     },
     "execution_count": 185,
     "metadata": {},
     "output_type": "execute_result"
    }
   ],
   "source": [
    "Weekly = load_data('Weekly')\n",
    "Weekly.head()"
   ]
  },
  {
   "cell_type": "code",
   "execution_count": 186,
   "id": "0a9937c9-4863-4b2f-9d1d-d2575e25aa12",
   "metadata": {},
   "outputs": [],
   "source": [
    "Weekly['d'] = Weekly['Direction'].apply(lambda x: 1 if x == 'Up' else 0)"
   ]
  },
  {
   "cell_type": "code",
   "execution_count": 188,
   "id": "5a59a7d5-b7fc-42b9-9b53-cf411e6ac901",
   "metadata": {},
   "outputs": [
    {
     "data": {
      "text/html": [
       "<div>\n",
       "<style scoped>\n",
       "    .dataframe tbody tr th:only-of-type {\n",
       "        vertical-align: middle;\n",
       "    }\n",
       "\n",
       "    .dataframe tbody tr th {\n",
       "        vertical-align: top;\n",
       "    }\n",
       "\n",
       "    .dataframe thead th {\n",
       "        text-align: right;\n",
       "    }\n",
       "</style>\n",
       "<table border=\"1\" class=\"dataframe\">\n",
       "  <thead>\n",
       "    <tr style=\"text-align: right;\">\n",
       "      <th></th>\n",
       "      <th>coef</th>\n",
       "      <th>std err</th>\n",
       "      <th>z</th>\n",
       "      <th>P&gt;|z|</th>\n",
       "    </tr>\n",
       "  </thead>\n",
       "  <tbody>\n",
       "    <tr>\n",
       "      <th>intercept</th>\n",
       "      <td>0.2212</td>\n",
       "      <td>0.061</td>\n",
       "      <td>3.599</td>\n",
       "      <td>0.000</td>\n",
       "    </tr>\n",
       "    <tr>\n",
       "      <th>Lag1</th>\n",
       "      <td>-0.0387</td>\n",
       "      <td>0.026</td>\n",
       "      <td>-1.477</td>\n",
       "      <td>0.140</td>\n",
       "    </tr>\n",
       "    <tr>\n",
       "      <th>Lag2</th>\n",
       "      <td>0.0602</td>\n",
       "      <td>0.027</td>\n",
       "      <td>2.270</td>\n",
       "      <td>0.023</td>\n",
       "    </tr>\n",
       "  </tbody>\n",
       "</table>\n",
       "</div>"
      ],
      "text/plain": [
       "             coef  std err      z  P>|z|\n",
       "intercept  0.2212    0.061  3.599  0.000\n",
       "Lag1      -0.0387    0.026 -1.477  0.140\n",
       "Lag2       0.0602    0.027  2.270  0.023"
      ]
     },
     "execution_count": 188,
     "metadata": {},
     "output_type": "execute_result"
    }
   ],
   "source": [
    "allvars = Weekly.columns.drop(['Year', 'Lag3', 'Lag4', 'Lag5', 'Volume', 'Today', 'Direction', 'd'])\n",
    "design = MS(allvars)\n",
    "X = design.fit_transform(Weekly)\n",
    "y = Weekly.d\n",
    "glm = sm.GLM(y,\n",
    "             X,\n",
    "             family=sm.families.Binomial())\n",
    "results = glm.fit()\n",
    "summarize(results)"
   ]
  },
  {
   "cell_type": "code",
   "execution_count": 197,
   "id": "cc07b770-326f-4905-a191-f484530b807c",
   "metadata": {},
   "outputs": [],
   "source": [
    "def fit_1(Weekly, idx):\n",
    "    \"\"\"\n",
    "    Train a GLM model on all indices except idx and test on idx.\n",
    "    \"\"\"\n",
    "    # Selecting features and target variable\n",
    "    features = Weekly.columns.drop(['Year', 'Lag3', 'Lag4', 'Lag5', 'Volume', 'Today', 'Direction', 'd'])\n",
    "    X = Weekly[features]\n",
    "    y = Weekly['d']\n",
    "\n",
    "    # Splitting data into training and testing sets\n",
    "    X_train = X.drop(idx)\n",
    "    X_test = X.loc[idx]\n",
    "    y_train = y.drop(idx)\n",
    "    y_test = y.loc[idx]\n",
    "\n",
    "    # Fit the model\n",
    "    glm = sm.GLM(y_train, \n",
    "                 X_train, \n",
    "                 family=sm.families.Binomial())\n",
    "    results = glm.fit()\n",
    "\n",
    "    # Make predictions\n",
    "    prediction = results.predict(X_test) > 0.5  # Reshape for single sample\n",
    "\n",
    "    # Comparing prediction to actual value\n",
    "    return (prediction.values[0] == y_test)"
   ]
  },
  {
   "cell_type": "code",
   "execution_count": 201,
   "id": "1a5c01e0-bfc5-4999-94fe-2b8c0d9c02d6",
   "metadata": {},
   "outputs": [
    {
     "data": {
      "text/plain": [
       "False"
      ]
     },
     "execution_count": 201,
     "metadata": {},
     "output_type": "execute_result"
    }
   ],
   "source": [
    "fit_1(Weekly, 0)"
   ]
  },
  {
   "cell_type": "code",
   "execution_count": 202,
   "id": "73aad2fd-3e85-47b7-af5f-3ff5d83d1945",
   "metadata": {},
   "outputs": [],
   "source": [
    "predictions = []\n",
    "for idx in Weekly.index:\n",
    "    predictions.append(fit_1(Weekly, idx))"
   ]
  },
  {
   "cell_type": "code",
   "execution_count": 204,
   "id": "22a713db-b804-4c1a-86a9-e81a212a490c",
   "metadata": {},
   "outputs": [
    {
     "data": {
      "text/plain": [
       "0.5353535353535354"
      ]
     },
     "execution_count": 204,
     "metadata": {},
     "output_type": "execute_result"
    }
   ],
   "source": [
    "sum(predictions) / len(predictions)"
   ]
  },
  {
   "cell_type": "code",
   "execution_count": 208,
   "id": "8008dbda-f89b-463d-a07a-176124172961",
   "metadata": {},
   "outputs": [
    {
     "data": {
      "text/plain": [
       "0.46464646464646464"
      ]
     },
     "execution_count": 208,
     "metadata": {},
     "output_type": "execute_result"
    }
   ],
   "source": [
    "1 - np.mean(predictions)"
   ]
  },
  {
   "cell_type": "markdown",
   "id": "6a12e56f-7874-446a-87bf-6f56e7222fde",
   "metadata": {},
   "source": [
    "# Question 8"
   ]
  },
  {
   "cell_type": "code",
   "execution_count": 241,
   "id": "8d5ee6ae-4164-4231-9abd-b1f1e7eb3f55",
   "metadata": {},
   "outputs": [],
   "source": [
    "rng = np.random.default_rng(1)\n",
    "x = rng.normal(size=100)\n",
    "y = x - 2 * x**2 + rng.normal(size=100) # X - 2X^2 + epsilon"
   ]
  },
  {
   "cell_type": "markdown",
   "id": "c145ced1-8588-4df8-9ddc-b2bdcaf1af42",
   "metadata": {},
   "source": [
    "##### n = 100, p = 2"
   ]
  },
  {
   "cell_type": "code",
   "execution_count": 242,
   "id": "0c9b9d2e-ff56-41b6-a874-73fe3aa91248",
   "metadata": {},
   "outputs": [
    {
     "data": {
      "image/png": "[encoded data removed]",
      "text/plain": [
       "<Figure size 640x480 with 1 Axes>"
      ]
     },
     "metadata": {},
     "output_type": "display_data"
    }
   ],
   "source": [
    "plt.scatter(x, y)\n",
    "plt.show()"
   ]
  },
  {
   "cell_type": "code",
   "execution_count": 243,
   "id": "47caf849-6ea3-4d56-95d2-24d316558ca3",
   "metadata": {},
   "outputs": [
    {
     "data": {
      "text/plain": [
       "6.633"
      ]
     },
     "execution_count": 243,
     "metadata": {},
     "output_type": "execute_result"
    }
   ],
   "source": [
    "df = pd.DataFrame({'X': x, 'y': y})\n",
    "hp_model = sklearn_sm(sm.OLS,\n",
    "                      MS(['X']))\n",
    "X = df[['X']]\n",
    "y = df['y']\n",
    "cv_results = cross_validate(hp_model,\n",
    "                            X,\n",
    "                            y,\n",
    "                            cv=100)\n",
    "cv_err = np.mean(cv_results['test_score'])\n",
    "round(cv_err, 4)"
   ]
  },
  {
   "cell_type": "code",
   "execution_count": 244,
   "id": "6ad6ecf4-2566-413d-96e1-eae4c36825f2",
   "metadata": {},
   "outputs": [
    {
     "data": {
      "text/plain": [
       "array([6.63302984, 1.12293686, 1.30179655, 1.33239427])"
      ]
     },
     "execution_count": 244,
     "metadata": {},
     "output_type": "execute_result"
    }
   ],
   "source": [
    "cv_error = np.zeros(4)\n",
    "H = np.array(df['X'])\n",
    "M = sklearn_sm(sm.OLS)\n",
    "for i, d in enumerate(range(1, 5)): # [1, 5)\n",
    "    X = np.power.outer(H, np.arange(d+1))\n",
    "    M_CV = cross_validate(M,\n",
    "                          X,\n",
    "                          y,\n",
    "                          cv=100)\n",
    "    cv_error[i] = np.mean(M_CV['test_score'])\n",
    "cv_error"
   ]
  },
  {
   "cell_type": "markdown",
   "id": "ee9fea26-7fdf-4b7b-b85b-20cfdb1ecfa2",
   "metadata": {},
   "source": [
    "##### New Random Range"
   ]
  },
  {
   "cell_type": "code",
   "execution_count": 246,
   "id": "5aa0ac55-e803-402e-9206-7b2c5210b49f",
   "metadata": {},
   "outputs": [
    {
     "data": {
      "text/plain": [
       "array([4.25188287, 0.96399846, 0.99127119, 1.0181801 ])"
      ]
     },
     "execution_count": 246,
     "metadata": {},
     "output_type": "execute_result"
    }
   ],
   "source": [
    "rng = np.random.default_rng(42)\n",
    "x = rng.normal(size=100)\n",
    "y = x - 2 * x**2 + rng.normal(size=100) # X - 2X^2 + epsilon\n",
    "\n",
    "df = pd.DataFrame({'X': x, 'y': y})\n",
    "cv_error = np.zeros(4)\n",
    "H = np.array(df['X'])\n",
    "M = sklearn_sm(sm.OLS)\n",
    "for i, d in enumerate(range(1, 5)): # [1, 5)\n",
    "    X = np.power.outer(H, np.arange(d+1))\n",
    "    M_CV = cross_validate(M,\n",
    "                          X,\n",
    "                          y,\n",
    "                          cv=100)\n",
    "    cv_error[i] = np.mean(M_CV['test_score'])\n",
    "cv_error"
   ]
  },
  {
   "cell_type": "markdown",
   "id": "417c1e2a-3dc6-446d-a21b-6aea4a6162cb",
   "metadata": {},
   "source": [
    "#### Model with X^2 is better."
   ]
  },
  {
   "cell_type": "code",
   "execution_count": 262,
   "id": "934386ff-4926-4e80-b1e3-0fa3584ed3f3",
   "metadata": {},
   "outputs": [],
   "source": [
    "rng = np.random.default_rng(42)\n",
    "x = rng.normal(size=100)\n",
    "y = x - 2 * x**2 + rng.normal(size=100) # X - 2X^2 + epsilon\n",
    "\n",
    "df = pd.DataFrame({'X': x, 'y': y})\n",
    "H = np.array(df['X'])\n",
    "X = np.power.outer(H, np.arange(3))\n",
    "df_new = pd.DataFrame({'intercept': X[:, 0],\n",
    "                       'x': X[:, 1],\n",
    "                       'x_sqr': X[:, 2],\n",
    "                       'y': y})"
   ]
  },
  {
   "cell_type": "code",
   "execution_count": 264,
   "id": "beff544e-4f38-455f-a458-0bb9094d3884",
   "metadata": {},
   "outputs": [],
   "source": [
    "X = df_new[['intercept', 'x', 'x_sqr']]\n",
    "y = df_new['y']\n",
    "model = sm.OLS(y, X)\n",
    "results = model.fit()"
   ]
  },
  {
   "cell_type": "code",
   "execution_count": 265,
   "id": "5c33f364-0882-4f64-8fcd-0210a60a9035",
   "metadata": {},
   "outputs": [
    {
     "data": {
      "text/html": [
       "<div>\n",
       "<style scoped>\n",
       "    .dataframe tbody tr th:only-of-type {\n",
       "        vertical-align: middle;\n",
       "    }\n",
       "\n",
       "    .dataframe tbody tr th {\n",
       "        vertical-align: top;\n",
       "    }\n",
       "\n",
       "    .dataframe thead th {\n",
       "        text-align: right;\n",
       "    }\n",
       "</style>\n",
       "<table border=\"1\" class=\"dataframe\">\n",
       "  <thead>\n",
       "    <tr style=\"text-align: right;\">\n",
       "      <th></th>\n",
       "      <th>coef</th>\n",
       "      <th>std err</th>\n",
       "      <th>t</th>\n",
       "      <th>P&gt;|t|</th>\n",
       "    </tr>\n",
       "  </thead>\n",
       "  <tbody>\n",
       "    <tr>\n",
       "      <th>intercept</th>\n",
       "      <td>0.1072</td>\n",
       "      <td>0.122</td>\n",
       "      <td>0.878</td>\n",
       "      <td>0.382</td>\n",
       "    </tr>\n",
       "    <tr>\n",
       "      <th>x</th>\n",
       "      <td>1.0800</td>\n",
       "      <td>0.129</td>\n",
       "      <td>8.400</td>\n",
       "      <td>0.000</td>\n",
       "    </tr>\n",
       "    <tr>\n",
       "      <th>x_sqr</th>\n",
       "      <td>-2.1898</td>\n",
       "      <td>0.125</td>\n",
       "      <td>-17.576</td>\n",
       "      <td>0.000</td>\n",
       "    </tr>\n",
       "  </tbody>\n",
       "</table>\n",
       "</div>"
      ],
      "text/plain": [
       "             coef  std err       t  P>|t|\n",
       "intercept  0.1072    0.122   0.878  0.382\n",
       "x          1.0800    0.129   8.400  0.000\n",
       "x_sqr     -2.1898    0.125 -17.576  0.000"
      ]
     },
     "execution_count": 265,
     "metadata": {},
     "output_type": "execute_result"
    }
   ],
   "source": [
    "summarize(results)"
   ]
  },
  {
   "cell_type": "markdown",
   "id": "4b9190ae-8ff8-4d7a-a909-b2cdbb19fa2e",
   "metadata": {},
   "source": [
    "##### This fits with our LOOCV Hypothesis"
   ]
  },
  {
   "cell_type": "markdown",
   "id": "7a539d39-ccc2-40ed-86c9-25193fe1c3e3",
   "metadata": {},
   "source": [
    "# Question 9"
   ]
  },
  {
   "cell_type": "code",
   "execution_count": 266,
   "id": "7e062906-e495-4ccd-a13c-e19c1ad6fa0c",
   "metadata": {},
   "outputs": [],
   "source": [
    "Boston = load_data('Boston')"
   ]
  },
  {
   "cell_type": "code",
   "execution_count": 268,
   "id": "68da9998-34a8-4609-953f-e0ea43ec29dd",
   "metadata": {},
   "outputs": [
    {
     "data": {
      "text/plain": [
       "22.532806324110677"
      ]
     },
     "execution_count": 268,
     "metadata": {},
     "output_type": "execute_result"
    }
   ],
   "source": [
    "mu = Boston['medv'].mean()\n",
    "mu"
   ]
  },
  {
   "cell_type": "code",
   "execution_count": 276,
   "id": "a243045f-c57f-4846-8948-627264d5202e",
   "metadata": {},
   "outputs": [
    {
     "data": {
      "text/plain": [
       "0.40886114749753505"
      ]
     },
     "execution_count": 276,
     "metadata": {},
     "output_type": "execute_result"
    }
   ],
   "source": [
    "std = Boston['medv'].std() / math.sqrt(Boston.shape[0])\n",
    "std"
   ]
  },
  {
   "cell_type": "code",
   "execution_count": 299,
   "id": "6c4e3398-7bda-49d7-899e-82463fc96b87",
   "metadata": {},
   "outputs": [
    {
     "data": {
      "text/plain": [
       "0.40489134448142533"
      ]
     },
     "execution_count": 299,
     "metadata": {},
     "output_type": "execute_result"
    }
   ],
   "source": [
    "def boot_fn_mean(D, idx):\n",
    "    return D['medv'].loc[idx].mean()\n",
    "\n",
    "bootstrap_means = []\n",
    "n = 1000\n",
    "for _ in range(n):\n",
    "    bootstrap_means.append(boot_fn_mean(Boston, rng.choice(Boston.index, Boston.shape[0], replace=True)))\n",
    "\n",
    "SE = np.std(bootstrap_means)\n",
    "SE"
   ]
  },
  {
   "cell_type": "code",
   "execution_count": 300,
   "id": "d4d83895-82b4-4ec5-b1ec-401eb3acab34",
   "metadata": {},
   "outputs": [
    {
     "name": "stdout",
     "output_type": "stream",
     "text": [
      "21.723023635147825 23.34258901307353\n"
     ]
    }
   ],
   "source": [
    "print(mu - 2*SE, mu + 2*SE)"
   ]
  },
  {
   "cell_type": "code",
   "execution_count": 301,
   "id": "709c1cb9-c5bd-4322-9d30-d33463a0b597",
   "metadata": {},
   "outputs": [
    {
     "data": {
      "text/plain": [
       "21.2"
      ]
     },
     "execution_count": 301,
     "metadata": {},
     "output_type": "execute_result"
    }
   ],
   "source": [
    "medv = Boston.medv\n",
    "medv.median()"
   ]
  },
  {
   "cell_type": "code",
   "execution_count": 302,
   "id": "c412ce87-b7d6-4401-ad1c-84f3284632c4",
   "metadata": {},
   "outputs": [
    {
     "data": {
      "text/plain": [
       "0.3702979847366169"
      ]
     },
     "execution_count": 302,
     "metadata": {},
     "output_type": "execute_result"
    }
   ],
   "source": [
    "def boot_fn_med(D, idx):\n",
    "    return D['medv'].loc[idx].median()\n",
    "\n",
    "bootstrap_medians = []\n",
    "n = 1000\n",
    "for _ in range(n):\n",
    "    bootstrap_medians.append(boot_fn_med(Boston, rng.choice(Boston.index, Boston.shape[0], replace=True)))\n",
    "SE = np.std(bootstrap_medians)\n",
    "SE"
   ]
  },
  {
   "cell_type": "code",
   "execution_count": 312,
   "id": "7f348a8b-3108-405c-8fd1-847dbdc619c6",
   "metadata": {},
   "outputs": [
    {
     "data": {
      "text/plain": [
       "12.75"
      ]
     },
     "execution_count": 312,
     "metadata": {},
     "output_type": "execute_result"
    }
   ],
   "source": [
    "mu_0_1 = np.percentile(Boston['medv'], 10)\n",
    "mu_0_1"
   ]
  },
  {
   "cell_type": "code",
   "execution_count": 315,
   "id": "4b5ffe14-775f-49b2-85fe-b2dd5bac3f29",
   "metadata": {},
   "outputs": [
    {
     "data": {
      "text/plain": [
       "0.5046672071771654"
      ]
     },
     "execution_count": 315,
     "metadata": {},
     "output_type": "execute_result"
    }
   ],
   "source": [
    "def boot_fn_perc(D, idx):\n",
    "    return D['medv'].loc[idx].quantile(0.1)\n",
    "\n",
    "bootstrap_percs = []\n",
    "n = 1000\n",
    "for _ in range(n):\n",
    "    bootstrap_percs.append(boot_fn_perc(Boston, rng.choice(Boston.index, Boston.shape[0], replace=True)))\n",
    "\n",
    "SE = np.std(bootstrap_percs)\n",
    "SE"
   ]
  },
  {
   "cell_type": "code",
   "execution_count": null,
   "id": "a8951279-66c4-4c8c-a7c3-f868efdf9261",
   "metadata": {},
   "outputs": [],
   "source": []
  }
 ],
 "metadata": {
  "kernelspec": {
   "display_name": "Python 3 (ipykernel)",
   "language": "python",
   "name": "python3"
  },
  "language_info": {
   "codemirror_mode": {
    "name": "ipython",
    "version": 3
   },
   "file_extension": ".py",
   "mimetype": "text/x-python",
   "name": "python",
   "nbconvert_exporter": "python",
   "pygments_lexer": "ipython3",
   "version": "3.11.5"
  }
 },
 "nbformat": 4,
 "nbformat_minor": 5
}
